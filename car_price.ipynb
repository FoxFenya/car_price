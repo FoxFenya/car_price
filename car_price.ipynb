{
 "cells": [
  {
   "cell_type": "markdown",
   "id": "cb0cf026",
   "metadata": {
    "toc": true
   },
   "source": [
    "<h1>Оглавление<span class=\"tocSkip\"></span></h1>\n",
    "<div class=\"toc\"><ul class=\"toc-item\"><li><span><a href=\"#Стоимость-автомобиля-на-вторичном-рынке\" data-toc-modified-id=\"Стоимость-автомобиля-на-вторичном-рынке-1\"><span class=\"toc-item-num\">1&nbsp;&nbsp;</span>Стоимость автомобиля на вторичном рынке</a></span><ul class=\"toc-item\"><li><span><a href=\"#Описание-работы\" data-toc-modified-id=\"Описание-работы-1.1\"><span class=\"toc-item-num\">1.1&nbsp;&nbsp;</span>Описание работы</a></span><ul class=\"toc-item\"><li><span><a href=\"#Постановка-задачи\" data-toc-modified-id=\"Постановка-задачи-1.1.1\"><span class=\"toc-item-num\">1.1.1&nbsp;&nbsp;</span>Постановка задачи</a></span></li><li><span><a href=\"#Описание-входных-данных\" data-toc-modified-id=\"Описание-входных-данных-1.1.2\"><span class=\"toc-item-num\">1.1.2&nbsp;&nbsp;</span>Описание входных данных</a></span></li><li><span><a href=\"#Цели-и-этапы-решения-задачи\" data-toc-modified-id=\"Цели-и-этапы-решения-задачи-1.1.3\"><span class=\"toc-item-num\">1.1.3&nbsp;&nbsp;</span>Цели и этапы решения задачи</a></span></li></ul></li></ul></li><li><span><a href=\"#Изучение-данных\" data-toc-modified-id=\"Изучение-данных-2\"><span class=\"toc-item-num\">2&nbsp;&nbsp;</span>Изучение данных</a></span><ul class=\"toc-item\"><li><span><a href=\"#Импорт-библиотек\" data-toc-modified-id=\"Импорт-библиотек-2.1\"><span class=\"toc-item-num\">2.1&nbsp;&nbsp;</span>Импорт библиотек</a></span></li><li><span><a href=\"#Загрузка-данных\" data-toc-modified-id=\"Загрузка-данных-2.2\"><span class=\"toc-item-num\">2.2&nbsp;&nbsp;</span>Загрузка данных</a></span><ul class=\"toc-item\"><li><span><a href=\"#Просмотр-данных\" data-toc-modified-id=\"Просмотр-данных-2.2.1\"><span class=\"toc-item-num\">2.2.1&nbsp;&nbsp;</span>Просмотр данных</a></span></li></ul></li><li><span><a href=\"#Обработка-данных\" data-toc-modified-id=\"Обработка-данных-2.3\"><span class=\"toc-item-num\">2.3&nbsp;&nbsp;</span>Обработка данных</a></span><ul class=\"toc-item\"><li><span><a href=\"#Признак-year\" data-toc-modified-id=\"Признак-year-2.3.1\"><span class=\"toc-item-num\">2.3.1&nbsp;&nbsp;</span>Признак year</a></span></li><li><span><a href=\"#Признак-make\" data-toc-modified-id=\"Признак-make-2.3.2\"><span class=\"toc-item-num\">2.3.2&nbsp;&nbsp;</span>Признак make</a></span></li><li><span><a href=\"#Признак-model\" data-toc-modified-id=\"Признак-model-2.3.3\"><span class=\"toc-item-num\">2.3.3&nbsp;&nbsp;</span>Признак model</a></span></li><li><span><a href=\"#Признак-trim\" data-toc-modified-id=\"Признак-trim-2.3.4\"><span class=\"toc-item-num\">2.3.4&nbsp;&nbsp;</span>Признак trim</a></span></li><li><span><a href=\"#Признак-body\" data-toc-modified-id=\"Признак-body-2.3.5\"><span class=\"toc-item-num\">2.3.5&nbsp;&nbsp;</span>Признак body</a></span></li><li><span><a href=\"#Признак-transmission\" data-toc-modified-id=\"Признак-transmission-2.3.6\"><span class=\"toc-item-num\">2.3.6&nbsp;&nbsp;</span>Признак transmission</a></span></li><li><span><a href=\"#Признак-state\" data-toc-modified-id=\"Признак-state-2.3.7\"><span class=\"toc-item-num\">2.3.7&nbsp;&nbsp;</span>Признак state</a></span></li><li><span><a href=\"#Признак-condition\" data-toc-modified-id=\"Признак-condition-2.3.8\"><span class=\"toc-item-num\">2.3.8&nbsp;&nbsp;</span>Признак condition</a></span></li><li><span><a href=\"#Признак-odometer\" data-toc-modified-id=\"Признак-odometer-2.3.9\"><span class=\"toc-item-num\">2.3.9&nbsp;&nbsp;</span>Признак odometer</a></span></li><li><span><a href=\"#Признак-color-и-interior\" data-toc-modified-id=\"Признак-color-и-interior-2.3.10\"><span class=\"toc-item-num\">2.3.10&nbsp;&nbsp;</span>Признак color и interior</a></span></li><li><span><a href=\"#Признак-sellingprice\" data-toc-modified-id=\"Признак-sellingprice-2.3.11\"><span class=\"toc-item-num\">2.3.11&nbsp;&nbsp;</span>Признак sellingprice</a></span></li><li><span><a href=\"#Признак-saledate\" data-toc-modified-id=\"Признак-saledate-2.3.12\"><span class=\"toc-item-num\">2.3.12&nbsp;&nbsp;</span>Признак saledate</a></span></li><li><span><a href=\"#Удалим-лишние-столбцы\" data-toc-modified-id=\"Удалим-лишние-столбцы-2.3.13\"><span class=\"toc-item-num\">2.3.13&nbsp;&nbsp;</span>Удалим лишние столбцы</a></span></li></ul></li></ul></li><li><span><a href=\"#Моделирование\" data-toc-modified-id=\"Моделирование-3\"><span class=\"toc-item-num\">3&nbsp;&nbsp;</span>Моделирование</a></span><ul class=\"toc-item\"><li><span><a href=\"#Подготовка-данных\" data-toc-modified-id=\"Подготовка-данных-3.1\"><span class=\"toc-item-num\">3.1&nbsp;&nbsp;</span>Подготовка данных</a></span><ul class=\"toc-item\"><li><span><a href=\"#Колирование-категориальных-переменных\" data-toc-modified-id=\"Колирование-категориальных-переменных-3.1.1\"><span class=\"toc-item-num\">3.1.1&nbsp;&nbsp;</span>Колирование категориальных переменных</a></span></li><li><span><a href=\"#Масштабирование-признаков\" data-toc-modified-id=\"Масштабирование-признаков-3.1.2\"><span class=\"toc-item-num\">3.1.2&nbsp;&nbsp;</span>Масштабирование признаков</a></span></li></ul></li><li><span><a href=\"#DecisionTreeRegressor\" data-toc-modified-id=\"DecisionTreeRegressor-3.2\"><span class=\"toc-item-num\">3.2&nbsp;&nbsp;</span>DecisionTreeRegressor</a></span></li><li><span><a href=\"#HistGradientBoostingRegressor\" data-toc-modified-id=\"HistGradientBoostingRegressor-3.3\"><span class=\"toc-item-num\">3.3&nbsp;&nbsp;</span>HistGradientBoostingRegressor</a></span></li><li><span><a href=\"#CatBoostRegressor\" data-toc-modified-id=\"CatBoostRegressor-3.4\"><span class=\"toc-item-num\">3.4&nbsp;&nbsp;</span>CatBoostRegressor</a></span></li><li><span><a href=\"#RandomForestRegressor\" data-toc-modified-id=\"RandomForestRegressor-3.5\"><span class=\"toc-item-num\">3.5&nbsp;&nbsp;</span>RandomForestRegressor</a></span></li></ul></li><li><span><a href=\"#Рассчет-выбранной-модели-на-тестовых-данных\" data-toc-modified-id=\"Рассчет-выбранной-модели-на-тестовых-данных-4\"><span class=\"toc-item-num\">4&nbsp;&nbsp;</span>Рассчет выбранной модели на тестовых данных</a></span><ul class=\"toc-item\"><li><span><a href=\"#Кодирование-и-масштабирование-данных-для-полного-датасета\" data-toc-modified-id=\"Кодирование-и-масштабирование-данных-для-полного-датасета-4.1\"><span class=\"toc-item-num\">4.1&nbsp;&nbsp;</span>Кодирование и масштабирование данных для полного датасета</a></span></li><li><span><a href=\"#Расчет-модели-с-выбранными-гиперпараметрами\" data-toc-modified-id=\"Расчет-модели-с-выбранными-гиперпараметрами-4.2\"><span class=\"toc-item-num\">4.2&nbsp;&nbsp;</span>Расчет модели с выбранными гиперпараметрами</a></span></li><li><span><a href=\"#Формирование-и-сохранение-итогового-Датасета-sample_submission\" data-toc-modified-id=\"Формирование-и-сохранение-итогового-Датасета-sample_submission-4.3\"><span class=\"toc-item-num\">4.3&nbsp;&nbsp;</span>Формирование и сохранение итогового Датасета sample_submission</a></span></li></ul></li><li><span><a href=\"#Выводы\" data-toc-modified-id=\"Выводы-5\"><span class=\"toc-item-num\">5&nbsp;&nbsp;</span>Выводы</a></span></li></ul></div>"
   ]
  },
  {
   "cell_type": "markdown",
   "id": "5518a78c",
   "metadata": {},
   "source": [
    "# Стоимость автомобиля на вторичном рынке"
   ]
  },
  {
   "cell_type": "markdown",
   "id": "bd0e80a0",
   "metadata": {},
   "source": [
    "## Описание работы"
   ]
  },
  {
   "cell_type": "markdown",
   "id": "e874c847",
   "metadata": {},
   "source": [
    "### Постановка задачи"
   ]
  },
  {
   "cell_type": "markdown",
   "id": "ef8767a4",
   "metadata": {},
   "source": [
    "***Заказчик***: Агентство по подбору автомобилей со вторичного рынка.\n",
    "\n",
    "Необходимо разработать модель, которая поможет спрогнозировать стоимость автомобиля на вторичном рынке. Тем самым заказчик планирует создавать перечини автомобилей по пожеланиям клиентов учитывая как ограничения по стоимости, так пожелания по маркам.\n",
    "\n",
    "Агентство объявило конкурс на платформе Kaggle. Для тестирования модели необходимо отправить тестовую выборку на платформу для получения решающего результата.\n",
    "\n",
    "В качестве данных для обучения модели получены ретроспективные данные о продажах автомобилей со вторичного рынка за 2014-2015 года. Также получены данные для тестирования модели.\n",
    "\n",
    "Для решения задачи использовать язык Python (Jupyter Notebook).\n"
   ]
  },
  {
   "cell_type": "markdown",
   "id": "3b25f491",
   "metadata": {},
   "source": [
    "### Описание входных данных"
   ]
  },
  {
   "cell_type": "markdown",
   "id": "70065428",
   "metadata": {},
   "source": [
    "**Дано:**\n",
    "1. train.csv - информация о продажах (~440000) автомобилей с аукционов, которые будут использоваться в качестве обучающих данных.\n",
    "2. test.csv - информация о продажах (~110000) автомобилей с аукционов, которые будут использоваться в качестве тестовых данных. данные не имеют поля 'sellingprice', при загрузке результата на платформу будет получен результат\n",
    "\n",
    "sellingprice - Целевой признак. Для каждого автомобиля предскажите числовое значение стоимости автомобиля."
   ]
  },
  {
   "cell_type": "markdown",
   "id": "44027c6d",
   "metadata": {},
   "source": [
    "**Описание полей данных:**\n",
    "1. 'year' - год производства\n",
    "2. 'make' - производитель\n",
    "3. 'model' - модель\n",
    "4. 'trim' - модификация\n",
    "5. 'body' - тип кузова\n",
    "6. 'transmission' - тип КПП\n",
    "7. 'vin' - идентификатор (вин)\n",
    "8. 'state' - штат регистрации\n",
    "9. 'condition' - состояние по шкале (1-5)\n",
    "10. 'odometer' - пробег в милях\n",
    "11. 'color' - цвет кузова\n",
    "12. 'interior' - цвет интерьера\n",
    "13. 'seller' - продавец\n",
    "14. 'sellingprice' - стоимость продажи\n",
    "15. 'saledate' - дата продажи"
   ]
  },
  {
   "cell_type": "markdown",
   "id": "d0beab4b",
   "metadata": {},
   "source": [
    "### Цели и этапы решения задачи"
   ]
  },
  {
   "cell_type": "markdown",
   "id": "a572f5b0",
   "metadata": {},
   "source": [
    "**Цель:** реализовать модель позволяющую выяснить предварительную оценку автомобиля.\n",
    "\n",
    "**Этапы решения задачи:**\n",
    "1.\tИзучить данные\n",
    "2.\tОбработать данные: заполнить пропуски, вычленить выбросы, убрать явняе и неявные дубликаты.\n",
    "3.\tВыделить из обучающей выборки часть данных для тестирования модели\n",
    "4.\tОбучить несколько моделей на полученных данных: DecisionTreeRegressor, RandomForestRegressor, GradientBoostingRegressor, CatBoostRegressor\n",
    "5.\tВыбрать наилучшие модели и протестировать их на выделенной части данных. Для отбора модели использовать GridSearchCV, главная метрика mean_absolute_percentage_error.\n",
    "6.\tОбучить выбранную модель на всех данных обучающей выборки\n",
    "7.\tПрименить модель для тестовой выборки от заказчика\n",
    "8.\tВыложить результат на платформу Kaggle в качестве csv файла в формате vin - price\n",
    "9.\tНаписать отчет о проделанной работе."
   ]
  },
  {
   "cell_type": "markdown",
   "id": "96dfd239",
   "metadata": {},
   "source": [
    "# Изучение данных"
   ]
  },
  {
   "cell_type": "markdown",
   "id": "27b163f1",
   "metadata": {},
   "source": [
    "## Импорт библиотек"
   ]
  },
  {
   "cell_type": "code",
   "execution_count": 142,
   "id": "196815ad",
   "metadata": {
    "scrolled": false
   },
   "outputs": [
    {
     "name": "stdout",
     "output_type": "stream",
     "text": [
      "Requirement already satisfied: scikit-learn==1.1.3 in c:\\users\\fenya\\anaconda3\\lib\\site-packages (1.1.3)\n",
      "Requirement already satisfied: threadpoolctl>=2.0.0 in c:\\users\\fenya\\anaconda3\\lib\\site-packages (from scikit-learn==1.1.3) (2.2.0)\n",
      "Requirement already satisfied: numpy>=1.17.3 in c:\\users\\fenya\\anaconda3\\lib\\site-packages (from scikit-learn==1.1.3) (1.21.5)\n",
      "Requirement already satisfied: joblib>=1.0.0 in c:\\users\\fenya\\anaconda3\\lib\\site-packages (from scikit-learn==1.1.3) (1.1.0)\n",
      "Requirement already satisfied: scipy>=1.3.2 in c:\\users\\fenya\\anaconda3\\lib\\site-packages (from scikit-learn==1.1.3) (1.7.3)\n",
      "Requirement already satisfied: catboost in c:\\users\\fenya\\anaconda3\\lib\\site-packages (1.2)\n",
      "Requirement already satisfied: scipy in c:\\users\\fenya\\anaconda3\\lib\\site-packages (from catboost) (1.7.3)\n",
      "Requirement already satisfied: graphviz in c:\\users\\fenya\\anaconda3\\lib\\site-packages (from catboost) (0.20.1)\n",
      "Requirement already satisfied: six in c:\\users\\fenya\\anaconda3\\lib\\site-packages (from catboost) (1.16.0)\n",
      "Requirement already satisfied: numpy>=1.16.0 in c:\\users\\fenya\\anaconda3\\lib\\site-packages (from catboost) (1.21.5)\n",
      "Requirement already satisfied: matplotlib in c:\\users\\fenya\\anaconda3\\lib\\site-packages (from catboost) (3.5.1)\n",
      "Requirement already satisfied: pandas>=0.24 in c:\\users\\fenya\\anaconda3\\lib\\site-packages (from catboost) (1.4.2)\n",
      "Requirement already satisfied: plotly in c:\\users\\fenya\\anaconda3\\lib\\site-packages (from catboost) (5.6.0)\n",
      "Requirement already satisfied: python-dateutil>=2.8.1 in c:\\users\\fenya\\anaconda3\\lib\\site-packages (from pandas>=0.24->catboost) (2.8.2)\n",
      "Requirement already satisfied: pytz>=2020.1 in c:\\users\\fenya\\anaconda3\\lib\\site-packages (from pandas>=0.24->catboost) (2021.3)\n",
      "Requirement already satisfied: pillow>=6.2.0 in c:\\users\\fenya\\anaconda3\\lib\\site-packages (from matplotlib->catboost) (9.0.1)\n",
      "Requirement already satisfied: cycler>=0.10 in c:\\users\\fenya\\anaconda3\\lib\\site-packages (from matplotlib->catboost) (0.11.0)\n",
      "Requirement already satisfied: pyparsing>=2.2.1 in c:\\users\\fenya\\anaconda3\\lib\\site-packages (from matplotlib->catboost) (3.0.4)\n",
      "Requirement already satisfied: packaging>=20.0 in c:\\users\\fenya\\anaconda3\\lib\\site-packages (from matplotlib->catboost) (21.3)\n",
      "Requirement already satisfied: fonttools>=4.22.0 in c:\\users\\fenya\\anaconda3\\lib\\site-packages (from matplotlib->catboost) (4.25.0)\n",
      "Requirement already satisfied: kiwisolver>=1.0.1 in c:\\users\\fenya\\anaconda3\\lib\\site-packages (from matplotlib->catboost) (1.3.2)\n",
      "Requirement already satisfied: tenacity>=6.2.0 in c:\\users\\fenya\\anaconda3\\lib\\site-packages (from plotly->catboost) (8.0.1)\n",
      "Name: scikit-learn\n",
      "Version: 1.1.3\n",
      "Summary: A set of python modules for machine learning and data mining\n",
      "Home-page: http://scikit-learn.org\n",
      "Author: \n",
      "Author-email: \n",
      "License: new BSD\n",
      "Location: c:\\users\\fenya\\anaconda3\\lib\\site-packages\n",
      "Requires: joblib, threadpoolctl, numpy, scipy\n",
      "Required-by: scikit-learn-intelex\n"
     ]
    }
   ],
   "source": [
    "!pip install scikit-learn==1.1.3\n",
    "!pip install catboost\n",
    "!pip show scikit-learn"
   ]
  },
  {
   "cell_type": "code",
   "execution_count": 143,
   "id": "89516c5f",
   "metadata": {},
   "outputs": [],
   "source": [
    "import numpy as np\n",
    "import pandas as pd\n",
    "from sklearn.tree import DecisionTreeRegressor\n",
    "from sklearn.ensemble import (RandomForestRegressor, GradientBoostingRegressor, HistGradientBoostingRegressor)\n",
    "from catboost import CatBoostRegressor\n",
    "from sklearn.metrics import mean_absolute_percentage_error\n",
    "from sklearn.preprocessing import (OrdinalEncoder, StandardScaler)\n",
    "from sklearn.model_selection import (train_test_split, GridSearchCV)"
   ]
  },
  {
   "cell_type": "markdown",
   "id": "5eeab58c",
   "metadata": {},
   "source": [
    "## Загрузка данных"
   ]
  },
  {
   "cell_type": "code",
   "execution_count": 144,
   "id": "93efa148",
   "metadata": {},
   "outputs": [],
   "source": [
    "train = pd.read_csv(r'train.csv')\n",
    "test_df = pd.read_csv(r'test.csv')\n",
    "test = test_df.copy()"
   ]
  },
  {
   "cell_type": "markdown",
   "id": "1df28e67",
   "metadata": {},
   "source": [
    "### Просмотр данных"
   ]
  },
  {
   "cell_type": "code",
   "execution_count": 145,
   "id": "e4cdd12b",
   "metadata": {},
   "outputs": [
    {
     "data": {
      "text/html": [
       "<div>\n",
       "<style scoped>\n",
       "    .dataframe tbody tr th:only-of-type {\n",
       "        vertical-align: middle;\n",
       "    }\n",
       "\n",
       "    .dataframe tbody tr th {\n",
       "        vertical-align: top;\n",
       "    }\n",
       "\n",
       "    .dataframe thead th {\n",
       "        text-align: right;\n",
       "    }\n",
       "</style>\n",
       "<table border=\"1\" class=\"dataframe\">\n",
       "  <thead>\n",
       "    <tr style=\"text-align: right;\">\n",
       "      <th></th>\n",
       "      <th>year</th>\n",
       "      <th>make</th>\n",
       "      <th>model</th>\n",
       "      <th>trim</th>\n",
       "      <th>body</th>\n",
       "      <th>transmission</th>\n",
       "      <th>vin</th>\n",
       "      <th>state</th>\n",
       "      <th>condition</th>\n",
       "      <th>odometer</th>\n",
       "      <th>color</th>\n",
       "      <th>interior</th>\n",
       "      <th>seller</th>\n",
       "      <th>sellingprice</th>\n",
       "      <th>saledate</th>\n",
       "    </tr>\n",
       "  </thead>\n",
       "  <tbody>\n",
       "    <tr>\n",
       "      <th>0</th>\n",
       "      <td>2011</td>\n",
       "      <td>Ford</td>\n",
       "      <td>Edge</td>\n",
       "      <td>SEL</td>\n",
       "      <td>suv</td>\n",
       "      <td>automatic</td>\n",
       "      <td>2fmdk3jc4bba41556</td>\n",
       "      <td>md</td>\n",
       "      <td>4.2</td>\n",
       "      <td>111041.0</td>\n",
       "      <td>black</td>\n",
       "      <td>black</td>\n",
       "      <td>santander consumer</td>\n",
       "      <td>12500</td>\n",
       "      <td>Tue Jun 02 2015 02:30:00 GMT-0700 (PDT)</td>\n",
       "    </tr>\n",
       "    <tr>\n",
       "      <th>1</th>\n",
       "      <td>2014</td>\n",
       "      <td>Ford</td>\n",
       "      <td>Fusion</td>\n",
       "      <td>SE</td>\n",
       "      <td>Sedan</td>\n",
       "      <td>automatic</td>\n",
       "      <td>3fa6p0h75er208976</td>\n",
       "      <td>mo</td>\n",
       "      <td>3.5</td>\n",
       "      <td>31034.0</td>\n",
       "      <td>black</td>\n",
       "      <td>black</td>\n",
       "      <td>ars/avis budget group</td>\n",
       "      <td>14500</td>\n",
       "      <td>Wed Feb 25 2015 02:00:00 GMT-0800 (PST)</td>\n",
       "    </tr>\n",
       "    <tr>\n",
       "      <th>2</th>\n",
       "      <td>2012</td>\n",
       "      <td>Nissan</td>\n",
       "      <td>Sentra</td>\n",
       "      <td>2.0 SL</td>\n",
       "      <td>sedan</td>\n",
       "      <td>automatic</td>\n",
       "      <td>3n1ab6ap4cl698412</td>\n",
       "      <td>nj</td>\n",
       "      <td>2.2</td>\n",
       "      <td>35619.0</td>\n",
       "      <td>black</td>\n",
       "      <td>black</td>\n",
       "      <td>nissan-infiniti lt</td>\n",
       "      <td>9100</td>\n",
       "      <td>Wed Jun 10 2015 02:30:00 GMT-0700 (PDT)</td>\n",
       "    </tr>\n",
       "  </tbody>\n",
       "</table>\n",
       "</div>"
      ],
      "text/plain": [
       "   year    make   model    trim   body transmission                vin state  \\\n",
       "0  2011    Ford    Edge     SEL    suv    automatic  2fmdk3jc4bba41556    md   \n",
       "1  2014    Ford  Fusion      SE  Sedan    automatic  3fa6p0h75er208976    mo   \n",
       "2  2012  Nissan  Sentra  2.0 SL  sedan    automatic  3n1ab6ap4cl698412    nj   \n",
       "\n",
       "   condition  odometer  color interior                 seller  sellingprice  \\\n",
       "0        4.2  111041.0  black    black     santander consumer         12500   \n",
       "1        3.5   31034.0  black    black  ars/avis budget group         14500   \n",
       "2        2.2   35619.0  black    black     nissan-infiniti lt          9100   \n",
       "\n",
       "                                  saledate  \n",
       "0  Tue Jun 02 2015 02:30:00 GMT-0700 (PDT)  \n",
       "1  Wed Feb 25 2015 02:00:00 GMT-0800 (PST)  \n",
       "2  Wed Jun 10 2015 02:30:00 GMT-0700 (PDT)  "
      ]
     },
     "metadata": {},
     "output_type": "display_data"
    },
    {
     "name": "stdout",
     "output_type": "stream",
     "text": [
      "<class 'pandas.core.frame.DataFrame'>\n",
      "RangeIndex: 440236 entries, 0 to 440235\n",
      "Data columns (total 15 columns):\n",
      " #   Column        Non-Null Count   Dtype  \n",
      "---  ------        --------------   -----  \n",
      " 0   year          440236 non-null  int64  \n",
      " 1   make          432193 non-null  object \n",
      " 2   model         432113 non-null  object \n",
      " 3   trim          431899 non-null  object \n",
      " 4   body          429843 non-null  object \n",
      " 5   transmission  388775 non-null  object \n",
      " 6   vin           440236 non-null  object \n",
      " 7   state         440236 non-null  object \n",
      " 8   condition     430831 non-null  float64\n",
      " 9   odometer      440167 non-null  float64\n",
      " 10  color         439650 non-null  object \n",
      " 11  interior      439650 non-null  object \n",
      " 12  seller        440236 non-null  object \n",
      " 13  sellingprice  440236 non-null  int64  \n",
      " 14  saledate      440236 non-null  object \n",
      "dtypes: float64(2), int64(2), object(11)\n",
      "memory usage: 50.4+ MB\n"
     ]
    }
   ],
   "source": [
    "display(train.head(3))\n",
    "train.info()"
   ]
  },
  {
   "cell_type": "markdown",
   "id": "c7332d90",
   "metadata": {},
   "source": [
    "Данные содержит 440236 объектов, каждый из объектов имеет 15 признаков.\n",
    "\n",
    "Из постановки задачи видно, что столбец sellingprice будет эндогенной (зависимой) переменной модели или откликом, а остальные 14 признаков будут экзогенным(независимыми) переменными.\n",
    "\n",
    "Данные содержат пропуски и неявные дубликаты."
   ]
  },
  {
   "cell_type": "markdown",
   "id": "1afd3053",
   "metadata": {},
   "source": [
    "## Обработка данных"
   ]
  },
  {
   "cell_type": "markdown",
   "id": "a8e24634",
   "metadata": {},
   "source": [
    "### Признак year"
   ]
  },
  {
   "cell_type": "code",
   "execution_count": 146,
   "id": "bc5a9b0c",
   "metadata": {},
   "outputs": [
    {
     "name": "stdout",
     "output_type": "stream",
     "text": [
      "Kоличество пропусков:  0\n",
      "Kоличество категорий:  34\n",
      "Список категорий:  [1982 1983 1984 1985 1986 1987 1988 1989 1990 1991 1992 1993 1994 1995\n",
      " 1996 1997 1998 1999 2000 2001 2002 2003 2004 2005 2006 2007 2008 2009\n",
      " 2010 2011 2012 2013 2014 2015]\n"
     ]
    }
   ],
   "source": [
    "print(f'Kоличество пропусков: ',train['year'].isna().sum())\n",
    "print(f'Kоличество категорий: ',train['year'].nunique())\n",
    "print(f'Список категорий: ',train.sort_values(by = 'year')['year'].unique())"
   ]
  },
  {
   "cell_type": "markdown",
   "id": "39e470e6",
   "metadata": {},
   "source": [
    "Датасет содержит данные с автомобилями с 1982 по  2015 года выпуска. Признак категориальный, пропусков нет."
   ]
  },
  {
   "cell_type": "markdown",
   "id": "460cc0a2",
   "metadata": {},
   "source": [
    "### Признак make"
   ]
  },
  {
   "cell_type": "code",
   "execution_count": 147,
   "id": "b4a9fede",
   "metadata": {},
   "outputs": [
    {
     "name": "stdout",
     "output_type": "stream",
     "text": [
      "Kоличество пропусков:  8043\n",
      "Kоличество категорий:  92\n",
      "Список категорий:  ['Acura' 'Aston Martin' 'Audi' 'BMW' 'Bentley' 'Buick' 'Cadillac'\n",
      " 'Chevrolet' 'Chrysler' 'Daewoo' 'Dodge' 'FIAT' 'Ferrari' 'Fisker' 'Ford'\n",
      " 'GMC' 'Geo' 'HUMMER' 'Honda' 'Hyundai' 'Infiniti' 'Isuzu' 'Jaguar' 'Jeep'\n",
      " 'Kia' 'Lamborghini' 'Land Rover' 'Lexus' 'Lincoln' 'MINI' 'Maserati'\n",
      " 'Mazda' 'Mercedes-Benz' 'Mercury' 'Mitsubishi' 'Nissan' 'Oldsmobile'\n",
      " 'Plymouth' 'Pontiac' 'Porsche' 'Ram' 'Rolls-Royce' 'Saab' 'Saturn'\n",
      " 'Scion' 'Subaru' 'Suzuki' 'Tesla' 'Toyota' 'Volkswagen' 'Volvo' 'acura'\n",
      " 'airstream' 'audi' 'bmw' 'buick' 'cadillac' 'chevrolet' 'chrysler'\n",
      " 'dodge' 'dodge tk' 'dot' 'ford' 'ford truck' 'gmc' 'gmc truck' 'honda'\n",
      " 'hyundai' 'jeep' 'kia' 'land rover' 'landrover' 'lexus' 'lincoln'\n",
      " 'maserati' 'mazda' 'mazda tk' 'mercedes' 'mercedes-b' 'mercury'\n",
      " 'mitsubishi' 'nissan' 'oldsmobile' 'plymouth' 'pontiac' 'porsche' 'smart'\n",
      " 'subaru' 'suzuki' 'toyota' 'volkswagen' 'vw' nan]\n"
     ]
    }
   ],
   "source": [
    "print(f'Kоличество пропусков: ',train['make'].isna().sum())\n",
    "print(f'Kоличество категорий: ',train['make'].nunique())\n",
    "print(f'Список категорий: ',train.sort_values(by = 'make')['make'].unique())"
   ]
  },
  {
   "cell_type": "markdown",
   "id": "64b8d7b4",
   "metadata": {},
   "source": [
    "Признак содержит неявные дубликаты и пропуски. Пропуски заполним значением 'unknown'. Удалим неявные дубликаты. Тестовую выборку обработаем по такой же схеме."
   ]
  },
  {
   "cell_type": "code",
   "execution_count": 148,
   "id": "f5c07a95",
   "metadata": {},
   "outputs": [],
   "source": [
    "#remove capital letters\n",
    "train['make'] = train['make'].str.lower()\n",
    "test['make'] = test['make'].str.lower()\n",
    "\n",
    "train['make'] = train['make'].fillna('unknown')\n",
    "test['make'] = test['make'].fillna('unknown')\n",
    "\n",
    "wrong_words = ['-benz', 'vw', '-b', ' tk', 'chev ', ' truck']\n",
    "good_name = ['', 'volkswagen', '', ' truck', 'chevrolet ', '']\n",
    "for i in range(len(wrong_words)):\n",
    "    train['make'] = train['make'].str.replace(wrong_words[i],good_name[i])\n",
    "    test['make'] = test['make'].str.replace(wrong_words[i],good_name[i])\n"
   ]
  },
  {
   "cell_type": "code",
   "execution_count": 149,
   "id": "437a041e",
   "metadata": {},
   "outputs": [
    {
     "name": "stdout",
     "output_type": "stream",
     "text": [
      "Kоличество пропусков:  0\n",
      "Kоличество категорий:  56\n",
      "Список категорий:  ['acura' 'airstream' 'aston martin' 'audi' 'bentley' 'bmw' 'buick'\n",
      " 'cadillac' 'chevrolet' 'chrysler' 'daewoo' 'dodge' 'dot' 'ferrari' 'fiat'\n",
      " 'fisker' 'ford' 'geo' 'gmc' 'honda' 'hummer' 'hyundai' 'infiniti' 'isuzu'\n",
      " 'jaguar' 'jeep' 'kia' 'lamborghini' 'land rover' 'landrover' 'lexus'\n",
      " 'lincoln' 'maserati' 'mazda' 'mercedes' 'mercury' 'mini' 'mitsubishi'\n",
      " 'nissan' 'oldsmobile' 'plymouth' 'pontiac' 'porsche' 'ram' 'rolls-royce'\n",
      " 'saab' 'saturn' 'scion' 'smart' 'subaru' 'suzuki' 'tesla' 'toyota'\n",
      " 'unknown' 'volkswagen' 'volvo']\n"
     ]
    }
   ],
   "source": [
    "print(f'Kоличество пропусков: ',train['make'].isna().sum())\n",
    "print(f'Kоличество категорий: ',train['make'].nunique())\n",
    "print(f'Список категорий: ',train.sort_values(by = 'make')['make'].unique())"
   ]
  },
  {
   "cell_type": "markdown",
   "id": "fa76bbe4",
   "metadata": {},
   "source": [
    "После обработки датасет содержит информацию о автомобилях 55 марок. ПРопуски заполнены значением unknown"
   ]
  },
  {
   "cell_type": "markdown",
   "id": "a4408a52",
   "metadata": {},
   "source": [
    "### Признак model"
   ]
  },
  {
   "cell_type": "code",
   "execution_count": 150,
   "id": "030840b9",
   "metadata": {},
   "outputs": [
    {
     "name": "stdout",
     "output_type": "stream",
     "text": [
      "Kоличество пропусков:  8123\n",
      "Kоличество категорий:  959\n"
     ]
    }
   ],
   "source": [
    "print(f'Kоличество пропусков: ',train['model'].isna().sum())\n",
    "print(f'Kоличество категорий: ',train['model'].nunique())\n",
    "# print(f'Список категорий: ',train.sort_values(by = 'model')['model'].unique())"
   ]
  },
  {
   "cell_type": "markdown",
   "id": "78da5e9f",
   "metadata": {},
   "source": [
    "Признак содержит неявные дубликаты и пропуски. Пропуски заполним значением 'unknown'. Удалим неявные дубликаты. Тестовую выборку обработаем по такой же схеме."
   ]
  },
  {
   "cell_type": "code",
   "execution_count": 151,
   "id": "fa64ed3e",
   "metadata": {},
   "outputs": [],
   "source": [
    "train['model'] = train['model'].str.lower()\n",
    "test['model'] = test['model'].str.lower()\n",
    "\n",
    "train['model'] = train['model'].fillna('unknown')\n",
    "test['model'] = test['model'].fillna('unknown')\n",
    "\n",
    "wrong_words = ['-', ' ']\n",
    "good_name = ['', '']\n",
    "for i in range(len(wrong_words)):\n",
    "    train['model'] = train['model'].str.replace(wrong_words[i],good_name[i])\n",
    "    test['model'] = test['model'].str.replace(wrong_words[i],good_name[i])"
   ]
  },
  {
   "cell_type": "code",
   "execution_count": 152,
   "id": "412d21b6",
   "metadata": {},
   "outputs": [
    {
     "name": "stdout",
     "output_type": "stream",
     "text": [
      "Kоличество пропусков:  0\n",
      "Kоличество категорий:  830\n"
     ]
    }
   ],
   "source": [
    "print(f'Kоличество пропусков: ',train['model'].isna().sum())\n",
    "print(f'Kоличество категорий: ',train['model'].nunique())\n",
    "# print(f'Список категорий: ',train.sort_values(by = 'model')['model'].unique())"
   ]
  },
  {
   "cell_type": "markdown",
   "id": "bfb75053",
   "metadata": {},
   "source": [
    "После обработки датасет содержит информацию о 829 моделях автомобилей. Пропуски заполнены значением unknown"
   ]
  },
  {
   "cell_type": "markdown",
   "id": "192d0f66",
   "metadata": {},
   "source": [
    "### Признак trim"
   ]
  },
  {
   "cell_type": "code",
   "execution_count": 153,
   "id": "a2597f7c",
   "metadata": {},
   "outputs": [
    {
     "name": "stdout",
     "output_type": "stream",
     "text": [
      "Kоличество пропусков:  8337\n",
      "Kоличество категорий:  1922\n"
     ]
    }
   ],
   "source": [
    "print(f'Kоличество пропусков: ',train['trim'].isna().sum())\n",
    "print(f'Kоличество категорий: ',train['trim'].nunique())\n",
    "# print(f'Список категорий: ',train.sort_values(by = 'trim')['trim'].unique())"
   ]
  },
  {
   "cell_type": "markdown",
   "id": "37ba8a8d",
   "metadata": {},
   "source": [
    "Признак содержит неявные дубликаты и пропуски. Пропуски заполним значением 'unknown'. Удалим неявные дубликаты. Тестовую выборку обработаем по такой же схеме."
   ]
  },
  {
   "cell_type": "code",
   "execution_count": 154,
   "id": "327c3929",
   "metadata": {},
   "outputs": [],
   "source": [
    "train['trim'] = train['trim'].str.lower()\n",
    "test['trim'] = test['trim'].str.lower()\n",
    "\n",
    "train['trim'] = train['trim'].fillna('unknown')\n",
    "test['trim'] = test['trim'].fillna('unknown')\n",
    "\n",
    "wrong_words = ['-', ' ']\n",
    "good_name = ['','']\n",
    "for i in range(len(wrong_words)):\n",
    "    train['trim'] = train['trim'].str.replace(wrong_words[i],good_name[i])\n",
    "    test['trim'] = test['trim'].str.replace(wrong_words[i],good_name[i])"
   ]
  },
  {
   "cell_type": "code",
   "execution_count": 155,
   "id": "b6776c5b",
   "metadata": {},
   "outputs": [
    {
     "name": "stdout",
     "output_type": "stream",
     "text": [
      "Kоличество пропусков:  0\n",
      "Kоличество категорий:  1813\n"
     ]
    }
   ],
   "source": [
    "print(f'Kоличество пропусков: ',train['trim'].isna().sum())\n",
    "print(f'Kоличество категорий: ',train['trim'].nunique())\n",
    "# print(f'Список категорий: ',train.sort_values(by = 'trim')['trim'].unique())"
   ]
  },
  {
   "cell_type": "markdown",
   "id": "d43141e9",
   "metadata": {},
   "source": [
    "После обработки датасет содержит информацию о 1812 модификациях автомобилей. Пропуски заполнены значением unknown"
   ]
  },
  {
   "cell_type": "markdown",
   "id": "1e2e242a",
   "metadata": {},
   "source": [
    "### Признак body"
   ]
  },
  {
   "cell_type": "code",
   "execution_count": 156,
   "id": "0c929493",
   "metadata": {},
   "outputs": [
    {
     "name": "stdout",
     "output_type": "stream",
     "text": [
      "Kоличество пропусков:  10393\n",
      "Kоличество категорий:  85\n"
     ]
    }
   ],
   "source": [
    "print(f'Kоличество пропусков: ',train['body'].isna().sum())\n",
    "print(f'Kоличество категорий: ',train['body'].nunique())\n",
    "# print(f'Список категорий: ',train.sort_values(by = 'body')['body'].unique())"
   ]
  },
  {
   "cell_type": "markdown",
   "id": "537ab292",
   "metadata": {},
   "source": [
    "Признак содержит неявные дубликаты и пропуски. Пропуски заполним значением 'unknown'. Удалим неявные дубликаты. Тестовую выборку обработаем по такой же схеме."
   ]
  },
  {
   "cell_type": "code",
   "execution_count": 157,
   "id": "45b0761a",
   "metadata": {},
   "outputs": [],
   "source": [
    "train['body'] = train['body'].str.lower()\n",
    "test['body'] = test['body'].str.lower()\n",
    "\n",
    "train['body'] = train['body'].fillna('unknown')\n",
    "test['body'] = test['body'].fillna('unknown')\n",
    "\n",
    "wrong_words = ['-', ' ']\n",
    "good_name = ['','']\n",
    "for i in range(len(wrong_words)):\n",
    "    train['body'] = train['body'].str.replace(wrong_words[i],good_name[i])\n",
    "    test['body'] = test['body'].str.replace(wrong_words[i],good_name[i])"
   ]
  },
  {
   "cell_type": "code",
   "execution_count": 158,
   "id": "e3838c2a",
   "metadata": {},
   "outputs": [
    {
     "name": "stdout",
     "output_type": "stream",
     "text": [
      "Kоличество пропусков:  0\n",
      "Kоличество категорий:  45\n"
     ]
    }
   ],
   "source": [
    "print(f'Kоличество пропусков: ',train['body'].isna().sum())\n",
    "print(f'Kоличество категорий: ',train['body'].nunique())\n",
    "# print(f'Список категорий: ',train.sort_values(by = 'body')['body'].unique())"
   ]
  },
  {
   "cell_type": "markdown",
   "id": "d7faaf44",
   "metadata": {},
   "source": [
    "После обработки датасет содержит информацию о автомобилях 44 вариантов корпусов автомобилей. Пропуски заполнены значением unknown."
   ]
  },
  {
   "cell_type": "markdown",
   "id": "46239c2b",
   "metadata": {},
   "source": [
    "### Признак transmission"
   ]
  },
  {
   "cell_type": "code",
   "execution_count": 159,
   "id": "14b7f445",
   "metadata": {},
   "outputs": [
    {
     "name": "stdout",
     "output_type": "stream",
     "text": [
      "Kоличество пропусков:  51461\n",
      "Kоличество категорий:  2\n",
      "Список категорий:  ['automatic' 'manual' nan]\n"
     ]
    }
   ],
   "source": [
    "print(f'Kоличество пропусков: ',train['transmission'].isna().sum())\n",
    "print(f'Kоличество категорий: ',train['transmission'].nunique())\n",
    "print(f'Список категорий: ',train.sort_values(by = 'transmission')['transmission'].unique())"
   ]
  },
  {
   "cell_type": "markdown",
   "id": "a0a77d59",
   "metadata": {},
   "source": [
    "Признак содержит пропуски. Пропуски заполним значением 'unknown'. Тестовую выбрку обработаем по такой же схеме."
   ]
  },
  {
   "cell_type": "code",
   "execution_count": 160,
   "id": "9c5c2076",
   "metadata": {},
   "outputs": [],
   "source": [
    "train['transmission'] = train['transmission'].fillna('unknown')\n",
    "test['transmission'] = test['transmission'].fillna('unknown')"
   ]
  },
  {
   "cell_type": "markdown",
   "id": "9b9d0685",
   "metadata": {},
   "source": [
    "### Признак state"
   ]
  },
  {
   "cell_type": "code",
   "execution_count": 161,
   "id": "50ec3bf7",
   "metadata": {},
   "outputs": [
    {
     "name": "stdout",
     "output_type": "stream",
     "text": [
      "Kоличество пропусков:  0\n",
      "Kоличество категорий:  38\n",
      "Список категорий:  ['ab' 'al' 'az' 'ca' 'co' 'fl' 'ga' 'hi' 'il' 'in' 'la' 'ma' 'md' 'mi'\n",
      " 'mn' 'mo' 'ms' 'nc' 'ne' 'nj' 'nm' 'ns' 'nv' 'ny' 'oh' 'ok' 'on' 'or'\n",
      " 'pa' 'pr' 'qc' 'sc' 'tn' 'tx' 'ut' 'va' 'wa' 'wi']\n"
     ]
    }
   ],
   "source": [
    "print(f'Kоличество пропусков: ',train['state'].isna().sum())\n",
    "print(f'Kоличество категорий: ',train['state'].nunique())\n",
    "print(f'Список категорий: ',train.sort_values(by = 'state')['state'].unique())"
   ]
  },
  {
   "cell_type": "markdown",
   "id": "60b1391f",
   "metadata": {},
   "source": [
    "Признак не содержит дубликатов и пропусков"
   ]
  },
  {
   "cell_type": "markdown",
   "id": "07621fc0",
   "metadata": {},
   "source": [
    "### Признак condition"
   ]
  },
  {
   "cell_type": "code",
   "execution_count": 162,
   "id": "e12f73d4",
   "metadata": {},
   "outputs": [
    {
     "name": "stdout",
     "output_type": "stream",
     "text": [
      "Kоличество пропусков:  9405\n"
     ]
    }
   ],
   "source": [
    "print(f'Kоличество пропусков: ',train['condition'].isna().sum())"
   ]
  },
  {
   "cell_type": "markdown",
   "id": "17ec5872",
   "metadata": {},
   "source": [
    "Признак непрерывный содержит значение состояние автомобиля по шкале от 1 до 5. Проверим экстремальные значения и заполним пропуски исходя из медианы по году выпуска. Тестовую выборку обработает по такому же сценарию."
   ]
  },
  {
   "cell_type": "code",
   "execution_count": 163,
   "id": "b457aa8f",
   "metadata": {},
   "outputs": [],
   "source": [
    "for year in train.sort_values(by = 'year')['year'].unique():\n",
    "    train['condition'] = train['condition'].fillna(train.loc[train['year'] == year]\n",
    "                                                       ['condition'].median())\n",
    "\n",
    "for year in test.sort_values(by = 'year')['year'].unique():\n",
    "    test['condition'] = test['condition'].fillna(test.loc[test['year'] == year]\n",
    "                                                       ['condition'].median())"
   ]
  },
  {
   "cell_type": "code",
   "execution_count": 164,
   "id": "bd212c87",
   "metadata": {},
   "outputs": [
    {
     "name": "stdout",
     "output_type": "stream",
     "text": [
      "Максимум:  5.0\n",
      "Минимум:  1.0\n"
     ]
    }
   ],
   "source": [
    "print('Максимум: ', train['condition'].max())\n",
    "print('Минимум: ', train['condition'].min())"
   ]
  },
  {
   "cell_type": "markdown",
   "id": "630c79ac",
   "metadata": {},
   "source": [
    "### Признак odometer"
   ]
  },
  {
   "cell_type": "code",
   "execution_count": 165,
   "id": "75af5d29",
   "metadata": {},
   "outputs": [
    {
     "name": "stdout",
     "output_type": "stream",
     "text": [
      "Kоличество пропусков:  69\n"
     ]
    }
   ],
   "source": [
    "print(f'Kоличество пропусков: ',train['odometer'].isna().sum())"
   ]
  },
  {
   "cell_type": "markdown",
   "id": "99d85b10",
   "metadata": {},
   "source": [
    "Признак непрерывный содержит значение пробега автомобиля. Проверим минимальный пробег (он должен быть положительным и хотябы больше 50 миль). Тестовую выборку обработает по такому же сценарию. Заполним пропуски исходя из медианы по году выпуска. Тестовую выборку обработает по такому же сценарию."
   ]
  },
  {
   "cell_type": "code",
   "execution_count": 166,
   "id": "f56a334a",
   "metadata": {},
   "outputs": [],
   "source": [
    "train = train.query('~(odometer<10)')\n",
    "\n",
    "for year in train.sort_values(by = 'year')['year'].unique():\n",
    "    train['odometer'] = train['odometer'].fillna(train.loc[train['year'] == year]\n",
    "                                                       ['odometer'].median())\n",
    "\n",
    "for year in test.sort_values(by = 'year')['year'].unique():\n",
    "    test['odometer'] = test['odometer'].fillna(test.loc[test['year'] == year]\n",
    "                                                       ['odometer'].median())"
   ]
  },
  {
   "cell_type": "markdown",
   "id": "88588de4",
   "metadata": {},
   "source": [
    "### Признак color и interior"
   ]
  },
  {
   "cell_type": "code",
   "execution_count": 167,
   "id": "f42fcabf",
   "metadata": {},
   "outputs": [
    {
     "name": "stdout",
     "output_type": "stream",
     "text": [
      "Kоличество пропусков color:  574\n",
      "Kоличество категорий color:  20\n",
      "Список категорий color:  ['beige' 'black' 'blue' 'brown' 'burgundy' 'charcoal' 'gold' 'gray'\n",
      " 'green' 'lime' 'off-white' 'orange' 'pink' 'purple' 'red' 'silver'\n",
      " 'turquoise' 'white' 'yellow' '—' nan]\n"
     ]
    }
   ],
   "source": [
    "print(f'Kоличество пропусков color: ',train['color'].isna().sum())\n",
    "print(f'Kоличество категорий color: ',train['color'].nunique())\n",
    "print(f'Список категорий color: ',train.sort_values(by = 'color')['color'].unique())"
   ]
  },
  {
   "cell_type": "code",
   "execution_count": 168,
   "id": "be69a452",
   "metadata": {},
   "outputs": [
    {
     "name": "stdout",
     "output_type": "stream",
     "text": [
      "Kоличество пропусков interior:  574\n",
      "Kоличество категорий interior:  17\n",
      "Список категорий interior:  ['beige' 'black' 'blue' 'brown' 'burgundy' 'gold' 'gray' 'green'\n",
      " 'off-white' 'orange' 'purple' 'red' 'silver' 'tan' 'white' 'yellow' '—'\n",
      " nan]\n"
     ]
    }
   ],
   "source": [
    "print(f'Kоличество пропусков interior: ',train['interior'].isna().sum())\n",
    "print(f'Kоличество категорий interior: ',train['interior'].nunique())\n",
    "print(f'Список категорий interior: ',train.sort_values(by = 'interior')['interior'].unique())"
   ]
  },
  {
   "cell_type": "markdown",
   "id": "55561051",
   "metadata": {},
   "source": [
    "Признаки категориальные и содержат пропуски. Заполним пропуски и - значением unknown."
   ]
  },
  {
   "cell_type": "code",
   "execution_count": 169,
   "id": "1a9939c4",
   "metadata": {},
   "outputs": [],
   "source": [
    "train['color'] = train['color'].fillna('unknown')\n",
    "test['color'] = test['color'].fillna('unknown')\n",
    "train['interior'] = train['interior'].fillna('unknown')\n",
    "test['interior'] = test['interior'].fillna('unknown')\n",
    "\n",
    "train['color'] = train['color'].replace('—','unknown')\n",
    "test['color'] = test['color'].replace('—','unknown')\n",
    "train['interior'] = train['interior'].replace('—','unknown')\n",
    "test['interior'] = test['interior'].replace('—','unknown')"
   ]
  },
  {
   "cell_type": "code",
   "execution_count": 170,
   "id": "47b279d2",
   "metadata": {},
   "outputs": [
    {
     "name": "stdout",
     "output_type": "stream",
     "text": [
      "Kоличество пропусков color:  0\n",
      "Kоличество категорий color:  20\n",
      "Список категорий color:  ['beige' 'black' 'blue' 'brown' 'burgundy' 'charcoal' 'gold' 'gray'\n",
      " 'green' 'lime' 'off-white' 'orange' 'pink' 'purple' 'red' 'silver'\n",
      " 'turquoise' 'unknown' 'white' 'yellow']\n"
     ]
    }
   ],
   "source": [
    "print(f'Kоличество пропусков color: ',train['color'].isna().sum())\n",
    "print(f'Kоличество категорий color: ',train['color'].nunique())\n",
    "print(f'Список категорий color: ',train.sort_values(by = 'color')['color'].unique())"
   ]
  },
  {
   "cell_type": "code",
   "execution_count": 171,
   "id": "9e12b093",
   "metadata": {},
   "outputs": [
    {
     "name": "stdout",
     "output_type": "stream",
     "text": [
      "Kоличество пропусков interior:  0\n",
      "Kоличество категорий interior:  17\n",
      "Список категорий interior:  ['beige' 'black' 'blue' 'brown' 'burgundy' 'gold' 'gray' 'green'\n",
      " 'off-white' 'orange' 'purple' 'red' 'silver' 'tan' 'unknown' 'white'\n",
      " 'yellow']\n"
     ]
    }
   ],
   "source": [
    "print(f'Kоличество пропусков interior: ',train['interior'].isna().sum())\n",
    "print(f'Kоличество категорий interior: ',train['interior'].nunique())\n",
    "print(f'Список категорий interior: ',train.sort_values(by = 'interior')['interior'].unique())"
   ]
  },
  {
   "cell_type": "markdown",
   "id": "73d794c8",
   "metadata": {},
   "source": [
    "### Признак sellingprice"
   ]
  },
  {
   "cell_type": "markdown",
   "id": "0c80fbd1",
   "metadata": {},
   "source": [
    "Исключим из данных машины с минимальными и максимальными ценами"
   ]
  },
  {
   "cell_type": "code",
   "execution_count": 172,
   "id": "22da2170",
   "metadata": {},
   "outputs": [],
   "source": [
    "train = train.query('~(sellingprice<250)')\n",
    "train = train.query('~(sellingprice>185000)')"
   ]
  },
  {
   "cell_type": "markdown",
   "id": "bb86b12b",
   "metadata": {},
   "source": [
    "### Признак saledate"
   ]
  },
  {
   "cell_type": "markdown",
   "id": "86b64174",
   "metadata": {},
   "source": [
    "При помощи этого признака определим возраст автомобиля в момент продажи"
   ]
  },
  {
   "cell_type": "code",
   "execution_count": 173,
   "id": "27d8b971",
   "metadata": {},
   "outputs": [],
   "source": [
    "train['saledate'] = [str(i).split(' GMT')[0] for i in train['saledate'].values]\n",
    "train['saledate'] = pd.to_datetime(train['saledate'], format='%a %b %d %Y %H:%M:%S')\n",
    "test['saledate'] = [str(i).split(' GMT')[0] for i in test['saledate'].values]\n",
    "test['saledate'] = pd.to_datetime(test['saledate'], format='%a %b %d %Y %H:%M:%S')\n",
    "\n",
    "train['saleyear'] = train['saledate'].dt.year\n",
    "train['age'] = train['saleyear'] - train['year'] + 1\n",
    "test['saleyear'] = test['saledate'].dt.year\n",
    "test['age'] = test['saleyear'] - test['year'] + 1"
   ]
  },
  {
   "cell_type": "markdown",
   "id": "1e9b86f8",
   "metadata": {},
   "source": [
    "Удалим столбцы vin - так как это идентификационный номер, year, saledate и saleyear - так как информация из этих параметров уже учтена в переменной age, а также seller, так как даже после обработки в переменной больше 10 тысяч категорий."
   ]
  },
  {
   "cell_type": "markdown",
   "id": "cb627f2d",
   "metadata": {},
   "source": [
    "### Удалим лишние столбцы"
   ]
  },
  {
   "cell_type": "code",
   "execution_count": 174,
   "id": "b7c8ce62",
   "metadata": {},
   "outputs": [
    {
     "data": {
      "text/html": [
       "<div>\n",
       "<style scoped>\n",
       "    .dataframe tbody tr th:only-of-type {\n",
       "        vertical-align: middle;\n",
       "    }\n",
       "\n",
       "    .dataframe tbody tr th {\n",
       "        vertical-align: top;\n",
       "    }\n",
       "\n",
       "    .dataframe thead th {\n",
       "        text-align: right;\n",
       "    }\n",
       "</style>\n",
       "<table border=\"1\" class=\"dataframe\">\n",
       "  <thead>\n",
       "    <tr style=\"text-align: right;\">\n",
       "      <th></th>\n",
       "      <th>make</th>\n",
       "      <th>model</th>\n",
       "      <th>trim</th>\n",
       "      <th>body</th>\n",
       "      <th>transmission</th>\n",
       "      <th>state</th>\n",
       "      <th>condition</th>\n",
       "      <th>odometer</th>\n",
       "      <th>color</th>\n",
       "      <th>interior</th>\n",
       "      <th>age</th>\n",
       "    </tr>\n",
       "  </thead>\n",
       "  <tbody>\n",
       "    <tr>\n",
       "      <th>0</th>\n",
       "      <td>cadillac</td>\n",
       "      <td>cts</td>\n",
       "      <td>base</td>\n",
       "      <td>sedan</td>\n",
       "      <td>automatic</td>\n",
       "      <td>ca</td>\n",
       "      <td>2.7</td>\n",
       "      <td>116970.0</td>\n",
       "      <td>silver</td>\n",
       "      <td>black</td>\n",
       "      <td>11</td>\n",
       "    </tr>\n",
       "  </tbody>\n",
       "</table>\n",
       "</div>"
      ],
      "text/plain": [
       "       make model  trim   body transmission state  condition  odometer  \\\n",
       "0  cadillac   cts  base  sedan    automatic    ca        2.7  116970.0   \n",
       "\n",
       "    color interior  age  \n",
       "0  silver    black   11  "
      ]
     },
     "execution_count": 174,
     "metadata": {},
     "output_type": "execute_result"
    }
   ],
   "source": [
    "train = train.drop(['year','vin', 'seller', 'saledate', 'saleyear'], axis=1)\n",
    "test = test.drop(['year', 'vin', 'seller', 'saledate', 'saleyear'], axis=1)\n",
    "train.head(1)\n",
    "test.head(1)"
   ]
  },
  {
   "cell_type": "markdown",
   "id": "b0f89727",
   "metadata": {},
   "source": [
    "# Моделирование"
   ]
  },
  {
   "cell_type": "markdown",
   "id": "55703d02",
   "metadata": {},
   "source": [
    "## Подготовка данных"
   ]
  },
  {
   "cell_type": "markdown",
   "id": "7946a7b6",
   "metadata": {},
   "source": [
    "Для корректного отбора моделей отделим от выборки train 40% наблюдений и будем тестировать результат моделирования на этой псевдотестовой выборке. Назовём её valid."
   ]
  },
  {
   "cell_type": "code",
   "execution_count": 175,
   "id": "f5dff10b",
   "metadata": {},
   "outputs": [
    {
     "data": {
      "text/html": [
       "<div>\n",
       "<style scoped>\n",
       "    .dataframe tbody tr th:only-of-type {\n",
       "        vertical-align: middle;\n",
       "    }\n",
       "\n",
       "    .dataframe tbody tr th {\n",
       "        vertical-align: top;\n",
       "    }\n",
       "\n",
       "    .dataframe thead th {\n",
       "        text-align: right;\n",
       "    }\n",
       "</style>\n",
       "<table border=\"1\" class=\"dataframe\">\n",
       "  <thead>\n",
       "    <tr style=\"text-align: right;\">\n",
       "      <th></th>\n",
       "      <th>make</th>\n",
       "      <th>model</th>\n",
       "      <th>trim</th>\n",
       "      <th>body</th>\n",
       "      <th>transmission</th>\n",
       "      <th>state</th>\n",
       "      <th>condition</th>\n",
       "      <th>odometer</th>\n",
       "      <th>color</th>\n",
       "      <th>interior</th>\n",
       "      <th>age</th>\n",
       "    </tr>\n",
       "  </thead>\n",
       "  <tbody>\n",
       "    <tr>\n",
       "      <th>197672</th>\n",
       "      <td>lexus</td>\n",
       "      <td>es350</td>\n",
       "      <td>base</td>\n",
       "      <td>sedan</td>\n",
       "      <td>automatic</td>\n",
       "      <td>az</td>\n",
       "      <td>3.9</td>\n",
       "      <td>36812.0</td>\n",
       "      <td>gray</td>\n",
       "      <td>gray</td>\n",
       "      <td>2</td>\n",
       "    </tr>\n",
       "    <tr>\n",
       "      <th>60826</th>\n",
       "      <td>nissan</td>\n",
       "      <td>leaf</td>\n",
       "      <td>sl</td>\n",
       "      <td>hatchback</td>\n",
       "      <td>automatic</td>\n",
       "      <td>ca</td>\n",
       "      <td>4.4</td>\n",
       "      <td>19723.0</td>\n",
       "      <td>white</td>\n",
       "      <td>tan</td>\n",
       "      <td>4</td>\n",
       "    </tr>\n",
       "    <tr>\n",
       "      <th>316968</th>\n",
       "      <td>kia</td>\n",
       "      <td>optima</td>\n",
       "      <td>lx</td>\n",
       "      <td>sedan</td>\n",
       "      <td>unknown</td>\n",
       "      <td>pa</td>\n",
       "      <td>4.6</td>\n",
       "      <td>26206.0</td>\n",
       "      <td>black</td>\n",
       "      <td>gray</td>\n",
       "      <td>4</td>\n",
       "    </tr>\n",
       "    <tr>\n",
       "      <th>8776</th>\n",
       "      <td>chevrolet</td>\n",
       "      <td>impala</td>\n",
       "      <td>lsfleet</td>\n",
       "      <td>sedan</td>\n",
       "      <td>automatic</td>\n",
       "      <td>ma</td>\n",
       "      <td>3.5</td>\n",
       "      <td>60457.0</td>\n",
       "      <td>white</td>\n",
       "      <td>gray</td>\n",
       "      <td>3</td>\n",
       "    </tr>\n",
       "    <tr>\n",
       "      <th>310695</th>\n",
       "      <td>ford</td>\n",
       "      <td>fusion</td>\n",
       "      <td>se</td>\n",
       "      <td>sedan</td>\n",
       "      <td>automatic</td>\n",
       "      <td>ne</td>\n",
       "      <td>3.6</td>\n",
       "      <td>40132.0</td>\n",
       "      <td>white</td>\n",
       "      <td>black</td>\n",
       "      <td>2</td>\n",
       "    </tr>\n",
       "    <tr>\n",
       "      <th>...</th>\n",
       "      <td>...</td>\n",
       "      <td>...</td>\n",
       "      <td>...</td>\n",
       "      <td>...</td>\n",
       "      <td>...</td>\n",
       "      <td>...</td>\n",
       "      <td>...</td>\n",
       "      <td>...</td>\n",
       "      <td>...</td>\n",
       "      <td>...</td>\n",
       "      <td>...</td>\n",
       "    </tr>\n",
       "    <tr>\n",
       "      <th>348659</th>\n",
       "      <td>bmw</td>\n",
       "      <td>3series</td>\n",
       "      <td>328i</td>\n",
       "      <td>convertible</td>\n",
       "      <td>automatic</td>\n",
       "      <td>fl</td>\n",
       "      <td>3.6</td>\n",
       "      <td>59160.0</td>\n",
       "      <td>gray</td>\n",
       "      <td>beige</td>\n",
       "      <td>8</td>\n",
       "    </tr>\n",
       "    <tr>\n",
       "      <th>396666</th>\n",
       "      <td>ford</td>\n",
       "      <td>eserieswagon</td>\n",
       "      <td>e350superdutyxlt</td>\n",
       "      <td>van</td>\n",
       "      <td>automatic</td>\n",
       "      <td>fl</td>\n",
       "      <td>4.1</td>\n",
       "      <td>17543.0</td>\n",
       "      <td>white</td>\n",
       "      <td>gray</td>\n",
       "      <td>2</td>\n",
       "    </tr>\n",
       "    <tr>\n",
       "      <th>393740</th>\n",
       "      <td>dodge</td>\n",
       "      <td>journey</td>\n",
       "      <td>sxt</td>\n",
       "      <td>suv</td>\n",
       "      <td>automatic</td>\n",
       "      <td>fl</td>\n",
       "      <td>4.0</td>\n",
       "      <td>19964.0</td>\n",
       "      <td>silver</td>\n",
       "      <td>black</td>\n",
       "      <td>2</td>\n",
       "    </tr>\n",
       "    <tr>\n",
       "      <th>77510</th>\n",
       "      <td>ford</td>\n",
       "      <td>taurus</td>\n",
       "      <td>ses</td>\n",
       "      <td>sedan</td>\n",
       "      <td>automatic</td>\n",
       "      <td>fl</td>\n",
       "      <td>1.9</td>\n",
       "      <td>104690.0</td>\n",
       "      <td>black</td>\n",
       "      <td>gray</td>\n",
       "      <td>14</td>\n",
       "    </tr>\n",
       "    <tr>\n",
       "      <th>218247</th>\n",
       "      <td>dodge</td>\n",
       "      <td>grandcaravan</td>\n",
       "      <td>sxt</td>\n",
       "      <td>minivan</td>\n",
       "      <td>unknown</td>\n",
       "      <td>pa</td>\n",
       "      <td>4.2</td>\n",
       "      <td>67100.0</td>\n",
       "      <td>white</td>\n",
       "      <td>black</td>\n",
       "      <td>3</td>\n",
       "    </tr>\n",
       "  </tbody>\n",
       "</table>\n",
       "<p>263298 rows × 11 columns</p>\n",
       "</div>"
      ],
      "text/plain": [
       "             make         model              trim         body transmission  \\\n",
       "197672      lexus         es350              base        sedan    automatic   \n",
       "60826      nissan          leaf                sl    hatchback    automatic   \n",
       "316968        kia        optima                lx        sedan      unknown   \n",
       "8776    chevrolet        impala           lsfleet        sedan    automatic   \n",
       "310695       ford        fusion                se        sedan    automatic   \n",
       "...           ...           ...               ...          ...          ...   \n",
       "348659        bmw       3series              328i  convertible    automatic   \n",
       "396666       ford  eserieswagon  e350superdutyxlt          van    automatic   \n",
       "393740      dodge       journey               sxt          suv    automatic   \n",
       "77510        ford        taurus               ses        sedan    automatic   \n",
       "218247      dodge  grandcaravan               sxt      minivan      unknown   \n",
       "\n",
       "       state  condition  odometer   color interior  age  \n",
       "197672    az        3.9   36812.0    gray     gray    2  \n",
       "60826     ca        4.4   19723.0   white      tan    4  \n",
       "316968    pa        4.6   26206.0   black     gray    4  \n",
       "8776      ma        3.5   60457.0   white     gray    3  \n",
       "310695    ne        3.6   40132.0   white    black    2  \n",
       "...      ...        ...       ...     ...      ...  ...  \n",
       "348659    fl        3.6   59160.0    gray    beige    8  \n",
       "396666    fl        4.1   17543.0   white     gray    2  \n",
       "393740    fl        4.0   19964.0  silver    black    2  \n",
       "77510     fl        1.9  104690.0   black     gray   14  \n",
       "218247    pa        4.2   67100.0   white    black    3  \n",
       "\n",
       "[263298 rows x 11 columns]"
      ]
     },
     "execution_count": 175,
     "metadata": {},
     "output_type": "execute_result"
    }
   ],
   "source": [
    "X = train.drop(['sellingprice'], axis=1)\n",
    "y = train['sellingprice']\n",
    "\n",
    "X_train, X_valid, y_train, y_valid = train_test_split(\n",
    "    X, y, test_size=0.4, random_state=12345)\n",
    "\n",
    "X_train"
   ]
  },
  {
   "cell_type": "markdown",
   "id": "3144fe7c",
   "metadata": {},
   "source": [
    "### Колирование категориальных переменных"
   ]
  },
  {
   "cell_type": "markdown",
   "id": "378ee63a",
   "metadata": {},
   "source": [
    "Обработаем категориальные признаки прямым колированием с помощью метода OrdinalEncoder."
   ]
  },
  {
   "cell_type": "code",
   "execution_count": 176,
   "id": "5521f329",
   "metadata": {},
   "outputs": [],
   "source": [
    "X_train_ore = X_train.copy()\n",
    "X_valid_ore = X_valid.copy()\n",
    "\n",
    "categor = ['make', 'model', 'trim', 'body', 'transmission','state','color','interior']\n",
    "encoder_ore = OrdinalEncoder(handle_unknown = 'use_encoded_value', unknown_value = -1)\n",
    "encoder_ore.fit(X_train_ore[categor])\n",
    "\n",
    "X_train_ore[encoder_ore.get_feature_names_out()] = encoder_ore.transform(X_train_ore[categor])\n",
    "X_valid_ore[encoder_ore.get_feature_names_out()] = encoder_ore.transform(X_valid_ore[categor])"
   ]
  },
  {
   "cell_type": "markdown",
   "id": "1bc8bcc5",
   "metadata": {},
   "source": [
    "### Масштабирование признаков"
   ]
  },
  {
   "cell_type": "markdown",
   "id": "957fd4ef",
   "metadata": {},
   "source": [
    "Неприрывные признаки проскалируем методом StandardScaler"
   ]
  },
  {
   "cell_type": "code",
   "execution_count": 177,
   "id": "e23c8d5a",
   "metadata": {},
   "outputs": [],
   "source": [
    "numeric = ['condition', 'odometer', 'age']\n",
    "scaler = StandardScaler()\n",
    "scaler.fit(X_train_ore[numeric])\n",
    "\n",
    "X_train_ore[numeric] = scaler.transform(X_train_ore[numeric])\n",
    "X_valid_ore[numeric] = scaler.transform(X_valid_ore[numeric])"
   ]
  },
  {
   "cell_type": "markdown",
   "id": "9c805e6d",
   "metadata": {},
   "source": [
    "## DecisionTreeRegressor"
   ]
  },
  {
   "cell_type": "code",
   "execution_count": 178,
   "id": "2f40bd8c",
   "metadata": {},
   "outputs": [
    {
     "name": "stdout",
     "output_type": "stream",
     "text": [
      "{'max_depth': 40, 'max_features': 10, 'min_samples_leaf': 7}\n",
      "mae_train_ore =  0.149\n",
      "mae_valid_ore =  0.221\n"
     ]
    }
   ],
   "source": [
    "model = DecisionTreeRegressor(random_state = 123456)\n",
    "\n",
    "parameters = {'max_depth': range(10,100,10), \n",
    "              'min_samples_leaf': [1,3,5,7,9], \n",
    "              'max_features': [2,4,6,10]\n",
    "             }\n",
    "\n",
    "modelgrid = GridSearchCV(model, \n",
    "                         parameters, \n",
    "                         scoring = 'neg_mean_absolute_percentage_error', \n",
    "                         cv = 5,\n",
    "                         n_jobs = 6)\n",
    "\n",
    "modelgrid = modelgrid.fit(X_train_ore, y_train)\n",
    "# modelgrid = modelgrid.fit(X, y)\n",
    "\n",
    "print(modelgrid.best_params_)\n",
    "\n",
    "pred_train_ore = modelgrid.predict(X_train_ore)\n",
    "mae_train_ore = round(mean_absolute_percentage_error(y_train, pred_train_ore),3)\n",
    "print('mae_train_ore = ', mae_train_ore)\n",
    "\n",
    "pred_valid_ore = modelgrid.predict(X_valid_ore)\n",
    "mae_valid_ore = round(mean_absolute_percentage_error(y_valid, pred_valid_ore),3)\n",
    "print('mae_valid_ore = ', mae_valid_ore)"
   ]
  },
  {
   "cell_type": "markdown",
   "id": "2371b2cc",
   "metadata": {},
   "source": [
    "Модель отбирается с помощью метрики neg_mean_absolute_percentage_error (MAPE). \n",
    "\n",
    "Модель DecisionTreeRegressor, которая дала лучший результат имеет настройки: 'max_depth': 40, 'max_features': 10, 'min_samples_leaf': 7\n",
    "На валидационноы выборке модель показывает значение метрики равное 0.221"
   ]
  },
  {
   "cell_type": "markdown",
   "id": "8a9a2c3e",
   "metadata": {},
   "source": [
    "## HistGradientBoostingRegressor"
   ]
  },
  {
   "cell_type": "code",
   "execution_count": 179,
   "id": "cd5f5458",
   "metadata": {},
   "outputs": [
    {
     "name": "stdout",
     "output_type": "stream",
     "text": [
      "{'max_depth': 20, 'max_iter': 500, 'min_samples_leaf': 10}\n",
      "mae_train_ore =  0.188\n",
      "mae_valid_ore =  0.194\n"
     ]
    }
   ],
   "source": [
    "model = HistGradientBoostingRegressor(random_state = 123456)\n",
    "\n",
    "parameters = {'max_depth': range(10,100,10), \n",
    "              'min_samples_leaf': [10,20,50,100], \n",
    "              'max_iter': [70,100,150,500]\n",
    "             }\n",
    "\n",
    "modelgrid = GridSearchCV(model, \n",
    "                         parameters, \n",
    "                         scoring = 'neg_mean_absolute_percentage_error', \n",
    "                         cv = 5,\n",
    "                         n_jobs = 6)\n",
    "\n",
    "modelgrid = modelgrid.fit(X_train_ore, y_train)\n",
    "# modelgrid = modelgrid.fit(X, y)\n",
    "\n",
    "print(modelgrid.best_params_)\n",
    "\n",
    "pred_train_ore = modelgrid.predict(X_train_ore)\n",
    "mae_train_ore = round(mean_absolute_percentage_error(y_train, pred_train_ore),3)\n",
    "print('mae_train_ore = ', mae_train_ore)\n",
    "\n",
    "pred_valid_ore = modelgrid.predict(X_valid_ore)\n",
    "mae_valid_ore = round(mean_absolute_percentage_error(y_valid, pred_valid_ore),3)\n",
    "print('mae_valid_ore = ', mae_valid_ore)"
   ]
  },
  {
   "cell_type": "markdown",
   "id": "97536800",
   "metadata": {},
   "source": [
    "Модель HistGradientBoostingRegressor, которая дала лучший результат имеет настройки: 'max_depth': 20, 'max_iter': 500, 'min_samples_leaf': 10\n",
    "На валидационной выборке модель показывает значение метрики равное 0.194"
   ]
  },
  {
   "cell_type": "markdown",
   "id": "2af20987",
   "metadata": {},
   "source": [
    "## CatBoostRegressor"
   ]
  },
  {
   "cell_type": "code",
   "execution_count": 180,
   "id": "cdaa787d",
   "metadata": {},
   "outputs": [
    {
     "name": "stderr",
     "output_type": "stream",
     "text": [
      "C:\\Users\\Fenya\\anaconda3\\lib\\site-packages\\sklearn\\model_selection\\_validation.py:378: FitFailedWarning: \n",
      "2 fits failed out of a total of 40.\n",
      "The score on these train-test partitions for these parameters will be set to nan.\n",
      "If these failures are not expected, you can try to debug them by setting error_score='raise'.\n",
      "\n",
      "Below are more details about the failures:\n",
      "--------------------------------------------------------------------------------\n",
      "2 fits failed with the following error:\n",
      "Traceback (most recent call last):\n",
      "  File \"C:\\Users\\Fenya\\anaconda3\\lib\\site-packages\\sklearn\\model_selection\\_validation.py\", line 686, in _fit_and_score\n",
      "    estimator.fit(X_train, y_train, **fit_params)\n",
      "  File \"C:\\Users\\Fenya\\anaconda3\\lib\\site-packages\\catboost\\core.py\", line 5734, in fit\n",
      "    return self._fit(X, y, cat_features, text_features, embedding_features, None, sample_weight, None, None, None, None, baseline,\n",
      "  File \"C:\\Users\\Fenya\\anaconda3\\lib\\site-packages\\catboost\\core.py\", line 2357, in _fit\n",
      "    self._train(\n",
      "  File \"C:\\Users\\Fenya\\anaconda3\\lib\\site-packages\\catboost\\core.py\", line 1761, in _train\n",
      "    self._object._train(train_pool, test_pool, params, allow_clear_pool, init_model._object if init_model else None)\n",
      "  File \"_catboost.pyx\", line 4624, in _catboost._CatBoost._train\n",
      "  File \"_catboost.pyx\", line 4673, in _catboost._CatBoost._train\n",
      "_catboost.CatBoostError: C:/Go_Agent/pipelines/BuildMaster/catboost.git/catboost/libs/train_lib/dir_helper.cpp:20: Can't create train working dir: catboost_info\n",
      "\n",
      "  warnings.warn(some_fits_failed_message, FitFailedWarning)\n",
      "C:\\Users\\Fenya\\anaconda3\\lib\\site-packages\\sklearn\\model_selection\\_search.py:953: UserWarning: One or more of the test scores are non-finite: [        nan -0.17565479 -0.17738986 -0.18248208 -0.1726502  -0.17642852\n",
      " -0.17821819 -0.1841184 ]\n",
      "  warnings.warn(\n"
     ]
    },
    {
     "name": "stdout",
     "output_type": "stream",
     "text": [
      "0:\tlearn: 8044.1345083\ttotal: 200ms\tremaining: 2m 19s\n",
      "100:\tlearn: 2210.7852617\ttotal: 6.22s\tremaining: 36.9s\n",
      "200:\tlearn: 1860.4705623\ttotal: 12.3s\tremaining: 30.5s\n",
      "300:\tlearn: 1679.4556762\ttotal: 18.3s\tremaining: 24.3s\n",
      "400:\tlearn: 1548.5859494\ttotal: 24.8s\tremaining: 18.5s\n",
      "500:\tlearn: 1446.8111809\ttotal: 30.9s\tremaining: 12.3s\n",
      "600:\tlearn: 1364.1895852\ttotal: 36.8s\tremaining: 6.07s\n",
      "699:\tlearn: 1296.7664697\ttotal: 42.6s\tremaining: 0us\n",
      "{'iterations': 700, 'learning_rate': 0.3, 'max_depth': 12}\n",
      "mae_train_ore =  0.122\n",
      "mae_valid_ore =  0.168\n"
     ]
    }
   ],
   "source": [
    "model = CatBoostRegressor(random_state = 123456, metric_period=100)\n",
    "\n",
    "parameters = {'max_depth'     : [12,14],\n",
    "              'learning_rate' : [0.3,0.4],\n",
    "              'iterations'    : [500,700]\n",
    "              }\n",
    "\n",
    "modelgrid = GridSearchCV(model, \n",
    "                         parameters, \n",
    "                         scoring = 'neg_mean_absolute_percentage_error', \n",
    "                         cv = 5,\n",
    "                         n_jobs = 6)\n",
    "\n",
    "modelgrid = modelgrid.fit(X_train_ore, y_train)\n",
    "# modelgrid = modelgrid.fit(X, y)\n",
    "\n",
    "print(modelgrid.best_params_)\n",
    "\n",
    "pred_train_ore = modelgrid.predict(X_train_ore)\n",
    "mae_train_ore = round(mean_absolute_percentage_error(y_train, pred_train_ore),3)\n",
    "print('mae_train_ore = ', mae_train_ore)\n",
    "\n",
    "pred_valid_ore = modelgrid.predict(X_valid_ore)\n",
    "mae_valid_ore = round(mean_absolute_percentage_error(y_valid, pred_valid_ore),3)\n",
    "print('mae_valid_ore = ', mae_valid_ore)"
   ]
  },
  {
   "cell_type": "markdown",
   "id": "92d7c0e8",
   "metadata": {},
   "source": [
    "Модель CatBoostRegressor, которая дала лучший результат имеет настройки: 'iterations': 700, 'learning_rate': 0.3, 'max_depth': 12. На валидационной выборке модель показывает значение метрики равное 0.168"
   ]
  },
  {
   "cell_type": "markdown",
   "id": "138e6b85",
   "metadata": {},
   "source": [
    "## RandomForestRegressor"
   ]
  },
  {
   "cell_type": "code",
   "execution_count": 181,
   "id": "8ff08c72",
   "metadata": {},
   "outputs": [
    {
     "name": "stdout",
     "output_type": "stream",
     "text": [
      "{'max_depth': 15, 'n_estimators': 150}\n",
      "mae_train_ore =  0.187\n",
      "mae_valid_ore =  0.229\n"
     ]
    }
   ],
   "source": [
    "model = RandomForestRegressor(random_state = 123456)\n",
    "\n",
    "parameters = {'n_estimators' : [70,100, 150],\n",
    "              'max_depth' : [10, 15]\n",
    "              }\n",
    "\n",
    "modelgrid = GridSearchCV(model, \n",
    "                         parameters, \n",
    "                         scoring = 'neg_mean_absolute_percentage_error', \n",
    "                         cv = 5,\n",
    "                         n_jobs = 6)\n",
    "\n",
    "modelgrid = modelgrid.fit(X_train_ore, y_train)\n",
    "# modelgrid = modelgrid.fit(X, y)\n",
    "\n",
    "print(modelgrid.best_params_)\n",
    "\n",
    "pred_train_ore = modelgrid.predict(X_train_ore)\n",
    "mae_train_ore = round(mean_absolute_percentage_error(y_train, pred_train_ore),3)\n",
    "print('mae_train_ore = ', mae_train_ore)\n",
    "\n",
    "pred_valid_ore = modelgrid.predict(X_valid_ore)\n",
    "mae_valid_ore = round(mean_absolute_percentage_error(y_valid, pred_valid_ore),3)\n",
    "print('mae_valid_ore = ', mae_valid_ore)"
   ]
  },
  {
   "cell_type": "markdown",
   "id": "12cafbd6",
   "metadata": {},
   "source": [
    "Модель RandomForestRegressor, которая дала лучший результат имеет настройки: 'max_depth': 15, 'n_estimators': 150. На валидационной выборке модель показывает значение метрики равное 0.229."
   ]
  },
  {
   "cell_type": "markdown",
   "id": "2c7e6b92",
   "metadata": {},
   "source": [
    "Лучшей моделью стала CatBoostRegressor с гиперпараметрами 'iterations': 700, 'learning_rate': 0.3, 'max_depth': 12. Используем её для дальнейшего прогнозирования."
   ]
  },
  {
   "cell_type": "markdown",
   "id": "61cadd76",
   "metadata": {},
   "source": [
    "# Рассчет выбранной модели на тестовых данных"
   ]
  },
  {
   "cell_type": "markdown",
   "id": "317818c4",
   "metadata": {},
   "source": [
    "## Кодирование и масштабирование данных для полного датасета"
   ]
  },
  {
   "cell_type": "code",
   "execution_count": 182,
   "id": "fa185d20",
   "metadata": {},
   "outputs": [],
   "source": [
    "X_ore = X.copy()\n",
    "test_ore = test.copy()\n",
    "\n",
    "categor = ['make', 'model', 'trim', 'body', 'transmission','state','color','interior']\n",
    "encoder_ore = OrdinalEncoder(handle_unknown = 'use_encoded_value', unknown_value = -1)\n",
    "encoder_ore.fit(X_ore[categor])\n",
    "\n",
    "X_ore[encoder_ore.get_feature_names_out()] = encoder_ore.transform(X_ore[categor])\n",
    "test_ore[encoder_ore.get_feature_names_out()] = encoder_ore.transform(test_ore[categor])\n",
    "\n",
    "\n",
    "numeric = ['condition', 'odometer', 'age']\n",
    "scaler = StandardScaler()\n",
    "scaler.fit(X_ore[numeric])\n",
    "\n",
    "X_ore[numeric] = scaler.transform(X_ore[numeric])\n",
    "test_ore[numeric] = scaler.transform(test_ore[numeric])"
   ]
  },
  {
   "cell_type": "markdown",
   "id": "f9078314",
   "metadata": {},
   "source": [
    "## Расчет модели с выбранными гиперпараметрами"
   ]
  },
  {
   "cell_type": "code",
   "execution_count": 183,
   "id": "e0ee4147",
   "metadata": {},
   "outputs": [
    {
     "name": "stdout",
     "output_type": "stream",
     "text": [
      "0:\tlearn: 7982.0658808\ttotal: 72.6ms\tremaining: 50.7s\n",
      "100:\tlearn: 2225.6362204\ttotal: 7.06s\tremaining: 41.9s\n",
      "200:\tlearn: 1898.0229470\ttotal: 14s\tremaining: 34.8s\n",
      "300:\tlearn: 1737.4371459\ttotal: 21.1s\tremaining: 28s\n",
      "400:\tlearn: 1630.1595514\ttotal: 28.3s\tremaining: 21.1s\n",
      "500:\tlearn: 1547.4421206\ttotal: 35.3s\tremaining: 14s\n",
      "600:\tlearn: 1478.0840443\ttotal: 42.4s\tremaining: 6.99s\n",
      "699:\tlearn: 1423.8951646\ttotal: 49.4s\tremaining: 0us\n",
      "best_model_mae =  0.131\n"
     ]
    }
   ],
   "source": [
    "best_model = CatBoostRegressor(random_state = 123456, metric_period=100, max_depth = 12, learning_rate = 0.3, iterations = 700)\n",
    "best_model = best_model.fit(X_ore, y)\n",
    "\n",
    "best_model_pred = best_model.predict(X_ore)\n",
    "best_model_mae = round(mean_absolute_percentage_error(y, best_model_pred),3)\n",
    "print('best_model_mae = ', best_model_mae)"
   ]
  },
  {
   "cell_type": "markdown",
   "id": "7786711a",
   "metadata": {},
   "source": [
    "## Формирование и сохранение итогового Датасета sample_submission"
   ]
  },
  {
   "cell_type": "code",
   "execution_count": 184,
   "id": "4a39f1cd",
   "metadata": {
    "scrolled": false
   },
   "outputs": [
    {
     "data": {
      "text/html": [
       "<div>\n",
       "<style scoped>\n",
       "    .dataframe tbody tr th:only-of-type {\n",
       "        vertical-align: middle;\n",
       "    }\n",
       "\n",
       "    .dataframe tbody tr th {\n",
       "        vertical-align: top;\n",
       "    }\n",
       "\n",
       "    .dataframe thead th {\n",
       "        text-align: right;\n",
       "    }\n",
       "</style>\n",
       "<table border=\"1\" class=\"dataframe\">\n",
       "  <thead>\n",
       "    <tr style=\"text-align: right;\">\n",
       "      <th></th>\n",
       "      <th>vin</th>\n",
       "      <th>sellingprice</th>\n",
       "    </tr>\n",
       "  </thead>\n",
       "  <tbody>\n",
       "    <tr>\n",
       "      <th>0</th>\n",
       "      <td>1g6dp567450124779</td>\n",
       "      <td>4825.564855</td>\n",
       "    </tr>\n",
       "    <tr>\n",
       "      <th>1</th>\n",
       "      <td>1gtw7fca7e1902207</td>\n",
       "      <td>21522.772355</td>\n",
       "    </tr>\n",
       "    <tr>\n",
       "      <th>2</th>\n",
       "      <td>jn8az1mw6dw303497</td>\n",
       "      <td>19765.224536</td>\n",
       "    </tr>\n",
       "  </tbody>\n",
       "</table>\n",
       "</div>"
      ],
      "text/plain": [
       "                 vin  sellingprice\n",
       "0  1g6dp567450124779   4825.564855\n",
       "1  1gtw7fca7e1902207  21522.772355\n",
       "2  jn8az1mw6dw303497  19765.224536"
      ]
     },
     "execution_count": 184,
     "metadata": {},
     "output_type": "execute_result"
    }
   ],
   "source": [
    "sample_submission = pd.DataFrame()\n",
    "sample_submission['vin'] = test_df['vin']\n",
    "sample_submission['sellingprice'] = best_model.predict(test_ore)\n",
    "sample_submission.head(3)"
   ]
  },
  {
   "cell_type": "code",
   "execution_count": 188,
   "id": "f46b2bd9",
   "metadata": {
    "scrolled": false
   },
   "outputs": [],
   "source": [
    "sample_submission.to_csv('sample_submission.csv', index = False)"
   ]
  },
  {
   "cell_type": "markdown",
   "id": "e28d2400",
   "metadata": {},
   "source": [
    "# Выводы"
   ]
  },
  {
   "cell_type": "markdown",
   "id": "35f7492a",
   "metadata": {},
   "source": [
    "В результате проделанной работы были сделаны следующие шаги:\n",
    "1. Загружены и обработаны данные\n",
    "2. Обработанные данные были закодированы и отмасштабированы\n",
    "3. Было обучено 4 вида регрессионных моделей: DecisionTreeRegressor, HistGradientBoostingRegressor, CatBoostRegressor и RandomForestRegressor\n",
    "4. При помощи метода GridSearchCV с помощью метрики MAPE была выбрана модель CatBoostRegressor.\n",
    "5. Результирующая модель была применена к тестовой выборке.\n",
    "6. Результат был загружен на платформу kaggle, результат прогнозирования 18.35694\n"
   ]
  },
  {
   "cell_type": "code",
   "execution_count": null,
   "id": "786b924a",
   "metadata": {},
   "outputs": [],
   "source": []
  }
 ],
 "metadata": {
  "kernelspec": {
   "display_name": "Python 3 (ipykernel)",
   "language": "python",
   "name": "python3"
  },
  "language_info": {
   "codemirror_mode": {
    "name": "ipython",
    "version": 3
   },
   "file_extension": ".py",
   "mimetype": "text/x-python",
   "name": "python",
   "nbconvert_exporter": "python",
   "pygments_lexer": "ipython3",
   "version": "3.9.12"
  },
  "toc": {
   "base_numbering": 1,
   "nav_menu": {
    "height": "318.99px",
    "width": "374.99px"
   },
   "number_sections": true,
   "sideBar": true,
   "skip_h1_title": false,
   "title_cell": "Оглавление",
   "title_sidebar": "Оглавление",
   "toc_cell": true,
   "toc_position": {
    "height": "calc(100% - 180px)",
    "left": "10px",
    "top": "150px",
    "width": "359.042px"
   },
   "toc_section_display": true,
   "toc_window_display": true
  }
 },
 "nbformat": 4,
 "nbformat_minor": 5
}
